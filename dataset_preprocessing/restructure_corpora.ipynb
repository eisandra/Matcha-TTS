{
 "cells": [
  {
   "cell_type": "markdown",
   "metadata": {},
   "source": [
    "Korpuste wav-failide ja txt-failide eraldamiseks eraldi kaustadesse ja lausete nummerduse muutmine."
   ]
  },
  {
   "cell_type": "code",
   "execution_count": 1,
   "metadata": {},
   "outputs": [],
   "source": [
    "import os\n",
    "import shutil"
   ]
  },
  {
   "cell_type": "code",
   "execution_count": null,
   "metadata": {},
   "outputs": [],
   "source": [
    "# Input corpora (both wav in txt in same folder)\n",
    "korp_1 = '/home/sandra/projects/matcha/data/peeter/peeter_jutustav'\n",
    "korp_2 = '/home/sandra/projects/matcha/data/peeter/peeter_otsekone'\n",
    "\n",
    "wav_path = '/home/sandra/projects/matcha/data/peeter/peeter_wav'\n",
    "txt_path = '/home/sandra/projects/matcha/data/peeter/peeter_txt'"
   ]
  },
  {
   "cell_type": "code",
   "execution_count": null,
   "metadata": {},
   "outputs": [],
   "source": [
    "def pad_no(number, padding=5):\n",
    "    return str(number).rjust(padding, '0')\n",
    "\n",
    "def rearrange_files(original_path, wav_output_path, txt_output_path, renumber=False, start_numbering_from=1, numbering_padding_len=5, prefix = 'lause'):\n",
    "    counter = start_numbering_from\n",
    "\n",
    "    print(len(os.listdir(original_path)))\n",
    "    for fname in os.listdir(original_path):\n",
    "        type = fname.split('.')[-1]\n",
    "        name = fname.split('.')[0]\n",
    "\n",
    "        if type != 'wav':\n",
    "            continue\n",
    "\n",
    "        if renumber:\n",
    "            new_name = prefix + pad_no(counter, numbering_padding_len)\n",
    "            counter += 1\n",
    "        else:\n",
    "            new_name = name\n",
    "\n",
    "        # Copy wav-file\n",
    "        shutil.copyfile(os.path.join(original_path, fname), os.path.join(wav_output_path, new_name + '.' + type))\n",
    "\n",
    "        # Copy txt-file\n",
    "        shutil.copyfile(os.path.join(original_path, name + '.txt'), os.path.join(txt_output_path, new_name + '.txt'))\n"
   ]
  },
  {
   "cell_type": "code",
   "execution_count": 4,
   "metadata": {},
   "outputs": [
    {
     "name": "stdout",
     "output_type": "stream",
     "text": [
      "6752\n",
      "3887\n"
     ]
    }
   ],
   "source": [
    "rearrange_files(korp_1, wav_path, txt_path, renumber=False)\n",
    "rearrange_files(korp_2, wav_path, txt_path, renumber=True, start_numbering_from=3376, numbering_padding_len=5)"
   ]
  }
 ],
 "metadata": {
  "kernelspec": {
   "display_name": "matcha-tts",
   "language": "python",
   "name": "python3"
  },
  "language_info": {
   "codemirror_mode": {
    "name": "ipython",
    "version": 3
   },
   "file_extension": ".py",
   "mimetype": "text/x-python",
   "name": "python",
   "nbconvert_exporter": "python",
   "pygments_lexer": "ipython3",
   "version": "3.10.16"
  }
 },
 "nbformat": 4,
 "nbformat_minor": 2
}
