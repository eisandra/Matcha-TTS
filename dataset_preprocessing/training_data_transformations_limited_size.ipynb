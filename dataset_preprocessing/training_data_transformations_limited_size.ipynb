{
 "cells": [
  {
   "cell_type": "markdown",
   "metadata": {},
   "source": [
    "Andmete formaat, kus DUMMY on failitee\n",
    "\n",
    "DUMMY/LJ045-0096.wav|Mrs. De Mohrenschildt thought that Oswald,\n",
    "\n",
    "DUMMY/LJ049-0022.wav|The Secret Service believed that it was very doubtful that any President would ride regularly in a vehicle with a fixed top, even though transparent.\n",
    "\n",
    "DUMMY/LJ033-0042.wav|Between the hours of eight and nine p.m. they were occupied with the children in the bedrooms located at the extreme east end of the house.\n",
    "\n",
    "DUMMY/LJ016-0117.wav|The prisoner had nothing to deal with but wooden panels, and by dint of cutting and chopping he got both the lower panels out.\n",
    "\n",
    "---\n",
    "\n",
    "\n",
    "Go to configs/data/ljspeech.yaml and change\n",
    "\n",
    "train_filelist_path: data/filelists/ljs_audio_text_train_filelist.txt\n",
    "valid_filelist_path: data/filelists/ljs_audio_text_val_filelist.txt"
   ]
  },
  {
   "cell_type": "code",
   "execution_count": 1,
   "metadata": {},
   "outputs": [],
   "source": [
    "from sklearn.model_selection import train_test_split\n",
    "import os"
   ]
  },
  {
   "cell_type": "markdown",
   "metadata": {},
   "source": [
    "### 1. Remove too big/small files and make data splits"
   ]
  },
  {
   "cell_type": "code",
   "execution_count": 2,
   "metadata": {},
   "outputs": [],
   "source": [
    "wav_folder = ''\n",
    "txt_folder = ''\n",
    "\n",
    "training_files_folder = '' # Output folder for files in format mentoned above"
   ]
  },
  {
   "cell_type": "code",
   "execution_count": 5,
   "metadata": {},
   "outputs": [],
   "source": [
    "sample_file_selection =  [] # Files from the folder that are in certain size range\n",
    "\n",
    "for file in os.listdir(wav_folder):\n",
    "    fsize = os.path.getsize(os.path.join(wav_folder, file))\n",
    "    if fsize < 88200 or fsize > 600000 :\n",
    "        continue\n",
    "    sample_file_selection.append(file)"
   ]
  },
  {
   "cell_type": "code",
   "execution_count": 6,
   "metadata": {},
   "outputs": [],
   "source": [
    "train, test_val = train_test_split(sample_file_selection, train_size=0.95, shuffle=True, random_state=5)\n",
    "\n",
    "val, test = train_test_split(test_val, train_size=0.2, shuffle=True, random_state=5)"
   ]
  },
  {
   "cell_type": "code",
   "execution_count": null,
   "metadata": {},
   "outputs": [],
   "source": [
    "len(train), len(test), len(val)"
   ]
  },
  {
   "cell_type": "code",
   "execution_count": null,
   "metadata": {},
   "outputs": [],
   "source": [
    "train[:15]"
   ]
  },
  {
   "cell_type": "markdown",
   "metadata": {},
   "source": [
    "### 2. Processing data to correct format"
   ]
  },
  {
   "cell_type": "code",
   "execution_count": 9,
   "metadata": {},
   "outputs": [],
   "source": [
    "train_filelist_fname = 'est_audio_text_train_filelist.txt'\n",
    "validation_filelist_fname = 'est_audio_text_val_filelist.txt'\n",
    "test_filelist_fname = 'est_audio_text_test_filelist.txt'"
   ]
  },
  {
   "cell_type": "code",
   "execution_count": 10,
   "metadata": {},
   "outputs": [],
   "source": [
    "def read_sentence_from_file(sentence: str, txt_folder):\n",
    "    if not sentence.endswith('.txt'):\n",
    "        sentence = sentence + '.txt'\n",
    "    with open(os.path.join(txt_folder, sentence)) as f:\n",
    "        sentence_text = f.read() + '\\n'\n",
    "    return sentence_text\n",
    "        \n",
    "\n",
    "def write_to_filelist(filelist_name, wav_file_subset, wav_file_reference_path, txt_folder):\n",
    "    lines = []\n",
    "    for fname in wav_file_subset:\n",
    "        sentence_id = fname.split('.')[0]\n",
    "        wav_reference = f'{wav_file_reference_path}/{fname}'\n",
    "        sentence = read_sentence_from_file(sentence_id, txt_folder)\n",
    "        lines.append(f'{wav_reference}|{sentence}')\n",
    "    \n",
    "    with open(filelist_name, 'w') as f:\n",
    "        f.writelines(lines)\n"
   ]
  },
  {
   "cell_type": "code",
   "execution_count": 11,
   "metadata": {},
   "outputs": [],
   "source": [
    "# Process train data\n",
    "write_to_filelist(f'{training_files_folder}/{train_filelist_fname}', train, wav_folder, txt_folder)\n",
    "\n",
    "# Process validation data\n",
    "write_to_filelist(f'{training_files_folder}/{validation_filelist_fname}', val, wav_folder, txt_folder)\n",
    "\n",
    "# Process test data\n",
    "write_to_filelist(f'{training_files_folder}/{test_filelist_fname}', test, wav_folder, txt_folder)"
   ]
  }
 ],
 "metadata": {
  "kernelspec": {
   "display_name": "matcha-tts",
   "language": "python",
   "name": "python3"
  },
  "language_info": {
   "codemirror_mode": {
    "name": "ipython",
    "version": 3
   },
   "file_extension": ".py",
   "mimetype": "text/x-python",
   "name": "python",
   "nbconvert_exporter": "python",
   "pygments_lexer": "ipython3",
   "version": "3.10.16"
  }
 },
 "nbformat": 4,
 "nbformat_minor": 2
}
